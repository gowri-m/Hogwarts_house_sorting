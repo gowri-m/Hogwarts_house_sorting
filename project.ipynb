{
 "cells": [
  {
   "cell_type": "code",
   "execution_count": 61,
   "metadata": {},
   "outputs": [],
   "source": [
    "import pandas as pd\n",
    "import numpy as np\n",
    "import nltk\n",
    "import re\n",
    "import string\n"
   ]
  },
  {
   "cell_type": "code",
   "execution_count": 62,
   "metadata": {},
   "outputs": [],
   "source": [
    "# !pip install emoji\n",
    "# !pip install tweet-preprocessor"
   ]
  },
  {
   "cell_type": "code",
   "execution_count": 63,
   "metadata": {},
   "outputs": [],
   "source": [
    "import emoji\n",
    "import preprocessor as p"
   ]
  },
  {
   "cell_type": "code",
   "execution_count": 64,
   "metadata": {},
   "outputs": [],
   "source": [
    "from nltk.tokenize import TweetTokenizer"
   ]
  },
  {
   "cell_type": "code",
   "execution_count": 65,
   "metadata": {},
   "outputs": [],
   "source": [
    "# !pip install openpyxl"
   ]
  },
  {
   "cell_type": "code",
   "execution_count": 66,
   "metadata": {},
   "outputs": [
    {
     "data": {
      "text/plain": [
       "8786"
      ]
     },
     "execution_count": 66,
     "metadata": {},
     "output_type": "execute_result"
    }
   ],
   "source": [
    "g_files = [\"/gryff.xlsx\", \"/gryff2.xlsx\",\"/@gryff3.xlsx\"]\n",
    "g = []\n",
    "for file in g_files:\n",
    "    g.append(pd.read_excel(file,engine='openpyxl'))\n",
    "    \n",
    "g_df = pd.concat(g, ignore_index=True)\n",
    "g_df = g_df[[\"Text\"]]\n",
    "g_df[\"House\"] = \"Gryffindor\"\n",
    "len(g_df)"
   ]
  },
  {
   "cell_type": "code",
   "execution_count": 67,
   "metadata": {},
   "outputs": [
    {
     "data": {
      "text/plain": [
       "9271"
      ]
     },
     "execution_count": 67,
     "metadata": {},
     "output_type": "execute_result"
    }
   ],
   "source": [
    "h_files = [\"/huff.xlsx\", \"/huff2.xlsx\",\n",
    "          \"/huff3.xlsx\"]\n",
    "h = []\n",
    "for file in h_files:\n",
    "    h.append(pd.read_excel(file,engine='openpyxl'))\n",
    "    \n",
    "h_df = pd.concat(h, ignore_index=True)\n",
    "h_df = h_df[[\"Text\"]]\n",
    "h_df[\"House\"] = \"Hufflepuff\"\n",
    "len(h_df)"
   ]
  },
  {
   "cell_type": "code",
   "execution_count": 68,
   "metadata": {},
   "outputs": [
    {
     "data": {
      "text/plain": [
       "9462"
      ]
     },
     "execution_count": 68,
     "metadata": {},
     "output_type": "execute_result"
    }
   ],
   "source": [
    "s_files = [\"/sly.xlsx\", \"sly2.xlsx\",\"sly3.xlsx\"]\n",
    "s = []\n",
    "for file in s_files:\n",
    "    s.append(pd.read_excel(file,engine='openpyxl'))\n",
    "    \n",
    "s_df = pd.concat(s, ignore_index=True)\n",
    "s_df = s_df[[\"Text\"]]\n",
    "s_df[\"House\"] = \"Slytherin\"\n",
    "s_df.head(5)\n",
    "len(s_df)"
   ]
  },
  {
   "cell_type": "code",
   "execution_count": 69,
   "metadata": {},
   "outputs": [
    {
     "data": {
      "text/plain": [
       "9576"
      ]
     },
     "execution_count": 69,
     "metadata": {},
     "output_type": "execute_result"
    }
   ],
   "source": [
    "r_files = [\"rav.xlsx\", \"rav2.xlsx\",\"rav3.xlsx\"]\n",
    "r = []\n",
    "for file in r_files:\n",
    "    r.append(pd.read_excel(file, engine='openpyxl'))\n",
    "    \n",
    "r_df = pd.concat(r, ignore_index=True)\n",
    "r_df = r_df[[\"Text\"]]\n",
    "r_df[\"House\"] = \"Ravenclaw\"\n",
    "len(r_df)"
   ]
  },
  {
   "cell_type": "code",
   "execution_count": 70,
   "metadata": {},
   "outputs": [
    {
     "data": {
      "text/html": [
       "<div>\n",
       "<style scoped>\n",
       "    .dataframe tbody tr th:only-of-type {\n",
       "        vertical-align: middle;\n",
       "    }\n",
       "\n",
       "    .dataframe tbody tr th {\n",
       "        vertical-align: top;\n",
       "    }\n",
       "\n",
       "    .dataframe thead th {\n",
       "        text-align: right;\n",
       "    }\n",
       "</style>\n",
       "<table border=\"1\" class=\"dataframe\">\n",
       "  <thead>\n",
       "    <tr style=\"text-align: right;\">\n",
       "      <th></th>\n",
       "      <th>Text</th>\n",
       "      <th>House</th>\n",
       "    </tr>\n",
       "  </thead>\n",
       "  <tbody>\n",
       "    <tr>\n",
       "      <th>8311</th>\n",
       "      <td>The environmental implications of raising cows...</td>\n",
       "      <td>Gryffindor</td>\n",
       "    </tr>\n",
       "    <tr>\n",
       "      <th>7068</th>\n",
       "      <td>https://t.co/2CEEqis0Dy</td>\n",
       "      <td>Slytherin</td>\n",
       "    </tr>\n",
       "    <tr>\n",
       "      <th>7520</th>\n",
       "      <td>RT @Laura_Joyce_ : Spread the word. It needs t...</td>\n",
       "      <td>Hufflepuff</td>\n",
       "    </tr>\n",
       "    <tr>\n",
       "      <th>2378</th>\n",
       "      <td>RT @changamire_j : @HannahNMadzinga If Twitter...</td>\n",
       "      <td>Hufflepuff</td>\n",
       "    </tr>\n",
       "    <tr>\n",
       "      <th>4878</th>\n",
       "      <td>RT @quenblackwell : I take this “butt pad” acc...</td>\n",
       "      <td>Slytherin</td>\n",
       "    </tr>\n",
       "    <tr>\n",
       "      <th>7463</th>\n",
       "      <td>@flippinstarkids at the age of 23</td>\n",
       "      <td>Hufflepuff</td>\n",
       "    </tr>\n",
       "    <tr>\n",
       "      <th>1811</th>\n",
       "      <td>@emily_diana97 @cthuwuu @dannydevites @lexieje...</td>\n",
       "      <td>Gryffindor</td>\n",
       "    </tr>\n",
       "    <tr>\n",
       "      <th>6578</th>\n",
       "      <td>RT @SacredSlytherin : Sometimes, when I study ...</td>\n",
       "      <td>Slytherin</td>\n",
       "    </tr>\n",
       "    <tr>\n",
       "      <th>5614</th>\n",
       "      <td>The best photo is of the most beautiful couple...</td>\n",
       "      <td>Gryffindor</td>\n",
       "    </tr>\n",
       "    <tr>\n",
       "      <th>93</th>\n",
       "      <td>@DMalfoysFlower *Draco began to pump his finge...</td>\n",
       "      <td>Slytherin</td>\n",
       "    </tr>\n",
       "  </tbody>\n",
       "</table>\n",
       "</div>"
      ],
      "text/plain": [
       "                                                   Text       House\n",
       "8311  The environmental implications of raising cows...  Gryffindor\n",
       "7068                            https://t.co/2CEEqis0Dy   Slytherin\n",
       "7520  RT @Laura_Joyce_ : Spread the word. It needs t...  Hufflepuff\n",
       "2378  RT @changamire_j : @HannahNMadzinga If Twitter...  Hufflepuff\n",
       "4878  RT @quenblackwell : I take this “butt pad” acc...   Slytherin\n",
       "7463                  @flippinstarkids at the age of 23  Hufflepuff\n",
       "1811  @emily_diana97 @cthuwuu @dannydevites @lexieje...  Gryffindor\n",
       "6578  RT @SacredSlytherin : Sometimes, when I study ...   Slytherin\n",
       "5614  The best photo is of the most beautiful couple...  Gryffindor\n",
       "93    @DMalfoysFlower *Draco began to pump his finge...   Slytherin"
      ]
     },
     "execution_count": 70,
     "metadata": {},
     "output_type": "execute_result"
    }
   ],
   "source": [
    "df = pd.concat([g_df,r_df,s_df,h_df])\n",
    "df.sample(10)\n",
    "# df.head(10)"
   ]
  },
  {
   "cell_type": "code",
   "execution_count": 71,
   "metadata": {},
   "outputs": [
    {
     "data": {
      "text/plain": [
       "(37095, 2)"
      ]
     },
     "execution_count": 71,
     "metadata": {},
     "output_type": "execute_result"
    }
   ],
   "source": [
    "df.shape"
   ]
  },
  {
   "cell_type": "code",
   "execution_count": 72,
   "metadata": {},
   "outputs": [],
   "source": [
    "import seaborn as sns\n",
    "import matplotlib.pyplot as plt\n"
   ]
  },
  {
   "cell_type": "code",
   "execution_count": 73,
   "metadata": {},
   "outputs": [
    {
     "data": {
      "text/plain": [
       "<AxesSubplot:xlabel='House', ylabel='Count'>"
      ]
     },
     "execution_count": 73,
     "metadata": {},
     "output_type": "execute_result"
    },
    {
     "data": {
      "image/png": "[encoded data removed]",
      "text/plain": [
       "<Figure size 360x360 with 1 Axes>"
      ]
     },
     "metadata": {},
     "output_type": "display_data"
    }
   ],
   "source": [
    "sns.set_theme(style=\"whitegrid\")\n",
    "fig, ax = plt.subplots(figsize=(5, 5))\n",
    "sns.histplot(df, x=\"House\",ax=ax)"
   ]
  },
  {
   "cell_type": "code",
   "execution_count": 74,
   "metadata": {},
   "outputs": [
    {
     "data": {
      "text/plain": [
       "<bound method NDFrame.describe of                                                    Text       House\n",
       "0     @illicitghosts @extendedhanleia @thorxraqnarok...  Gryffindor\n",
       "1                                  @joeypqcey lana lang  Gryffindor\n",
       "2     RT @buttrbeer : reminder that bi/pan lesbians ...  Gryffindor\n",
       "3                               @oswinpxnd SO true sara  Gryffindor\n",
       "4                layouts - 2021 https://t.co/lO6E1n8sYc  Gryffindor\n",
       "...                                                 ...         ...\n",
       "9266  @iamsilvercloud just a little bit http://t.co/...  Hufflepuff\n",
       "9267  @iamsilvercloud I watched it when I got home f...  Hufflepuff\n",
       "9268  @iamsilvercloud he is trying to be will its funny  Hufflepuff\n",
       "9269  @iamsilvercloud I love it I have watched 3 tim...  Hufflepuff\n",
       "9270  @iamsilvercloud yeah I'm good http://t.co/jk5h...  Hufflepuff\n",
       "\n",
       "[37095 rows x 2 columns]>"
      ]
     },
     "execution_count": 74,
     "metadata": {},
     "output_type": "execute_result"
    }
   ],
   "source": [
    "df.describe"
   ]
  },
  {
   "cell_type": "code",
   "execution_count": 75,
   "metadata": {},
   "outputs": [
    {
     "data": {
      "text/plain": [
       "0       @illicitghosts @extendedhanleia @thorxraqnarok...\n",
       "1                                    @joeypqcey lana lang\n",
       "2       RT @buttrbeer : reminder that bi/pan lesbians ...\n",
       "3                                 @oswinpxnd SO true sara\n",
       "4                  layouts - 2021 https://t.co/lO6E1n8sYc\n",
       "                              ...                        \n",
       "9266    @iamsilvercloud just a little bit http://t.co/...\n",
       "9267    @iamsilvercloud I watched it when I got home f...\n",
       "9268    @iamsilvercloud he is trying to be will its funny\n",
       "9269    @iamsilvercloud I love it I have watched 3 tim...\n",
       "9270    @iamsilvercloud yeah I'm good http://t.co/jk5h...\n",
       "Name: Text, Length: 37095, dtype: object"
      ]
     },
     "execution_count": 75,
     "metadata": {},
     "output_type": "execute_result"
    }
   ],
   "source": [
    "df['Text']"
   ]
  },
  {
   "cell_type": "code",
   "execution_count": 76,
   "metadata": {},
   "outputs": [],
   "source": [
    "p.set_options(p.OPT.URL, p.OPT.MENTION,p.OPT.NUMBER)"
   ]
  },
  {
   "cell_type": "code",
   "execution_count": 77,
   "metadata": {},
   "outputs": [
    {
     "data": {
      "text/plain": [
       "0                    tried to unf but they deactivated 💀💀\n",
       "1                                               lana lang\n",
       "2       RT : reminder that bi/pan lesbians do not exis...\n",
       "3                                            SO true sara\n",
       "4                                               layouts -\n",
       "                              ...                        \n",
       "9266                                    just a little bit\n",
       "9267    I watched it when I got home from work I think...\n",
       "9268                    he is trying to be will its funny\n",
       "9269    I love it I have watched times today I found a...\n",
       "9270                                        yeah I'm good\n",
       "Name: Text, Length: 37095, dtype: object"
      ]
     },
     "execution_count": 77,
     "metadata": {},
     "output_type": "execute_result"
    }
   ],
   "source": [
    "df['Text'] = df['Text'].apply(p.clean)\n",
    "df['Text']"
   ]
  },
  {
   "cell_type": "code",
   "execution_count": 78,
   "metadata": {},
   "outputs": [],
   "source": [
    "df['Text'] = df['Text'].apply(lambda x: re.sub('RT',\"\",x))"
   ]
  },
  {
   "cell_type": "code",
   "execution_count": 79,
   "metadata": {},
   "outputs": [],
   "source": [
    "df['Text'] = df['Text'].apply(emoji.demojize)"
   ]
  },
  {
   "cell_type": "code",
   "execution_count": 80,
   "metadata": {},
   "outputs": [
    {
     "data": {
      "text/plain": [
       "0        tried to unf but they deactivated :skull::skull:\n",
       "1                                               lana lang\n",
       "2        : reminder that bi/pan lesbians do not exist....\n",
       "3                                            SO true sara\n",
       "4                                               layouts -\n",
       "                              ...                        \n",
       "9266                                    just a little bit\n",
       "9267    I watched it when I got home from work I think...\n",
       "9268                    he is trying to be will its funny\n",
       "9269    I love it I have watched times today I found a...\n",
       "9270                                        yeah I'm good\n",
       "Name: Text, Length: 37095, dtype: object"
      ]
     },
     "execution_count": 80,
     "metadata": {},
     "output_type": "execute_result"
    }
   ],
   "source": [
    "df['Text']"
   ]
  },
  {
   "cell_type": "code",
   "execution_count": 81,
   "metadata": {},
   "outputs": [],
   "source": [
    "# from nltk.corpus import stopwords\n",
    "# stop_words = stopwords.words('english')"
   ]
  },
  {
   "cell_type": "code",
   "execution_count": 82,
   "metadata": {},
   "outputs": [],
   "source": [
    "def decontracted(phrase):\n",
    "    # specific\n",
    "    phrase = re.sub(r\"won\\'t\", \"will not\", phrase)\n",
    "    phrase = re.sub(r\"can\\'t\", \"can not\", phrase)\n",
    "\n",
    "    # general\n",
    "    phrase = re.sub(r\"n\\'t\", \" not\", phrase)\n",
    "    phrase = re.sub(r\"\\'re\", \" are\", phrase)\n",
    "    phrase = re.sub(r\"\\'s\", \" is\", phrase)\n",
    "    phrase = re.sub(r\"\\'d\", \" would\", phrase)\n",
    "    phrase = re.sub(r\"\\'ll\", \" will\", phrase)\n",
    "    phrase = re.sub(r\"\\'t\", \" not\", phrase)\n",
    "    phrase = re.sub(r\"\\'ve\", \" have\", phrase)\n",
    "    phrase = re.sub(r\"\\'m\", \" am\", phrase)\n",
    "    return phrase.lower()\n"
   ]
  },
  {
   "cell_type": "code",
   "execution_count": 83,
   "metadata": {},
   "outputs": [],
   "source": [
    "df['Text'] = df['Text'].apply(decontracted)"
   ]
  },
  {
   "cell_type": "code",
   "execution_count": 84,
   "metadata": {},
   "outputs": [
    {
     "data": {
      "text/plain": [
       "0        tried to unf but they deactivated :skull::skull:\n",
       "1                                               lana lang\n",
       "2        : reminder that bi/pan lesbians do not exist....\n",
       "3                                            so true sara\n",
       "4                                               layouts -\n",
       "                              ...                        \n",
       "9266                                    just a little bit\n",
       "9267    i watched it when i got home from work i think...\n",
       "9268                    he is trying to be will its funny\n",
       "9269    i love it i have watched times today i found a...\n",
       "9270                                       yeah i am good\n",
       "Name: Text, Length: 37095, dtype: object"
      ]
     },
     "execution_count": 84,
     "metadata": {},
     "output_type": "execute_result"
    }
   ],
   "source": [
    "df['Text']"
   ]
  },
  {
   "cell_type": "code",
   "execution_count": 85,
   "metadata": {},
   "outputs": [],
   "source": [
    "def remove_punctuations(text):\n",
    "    for punctuation in string.punctuation:\n",
    "        if punctuation != \"_\" :\n",
    "            text = text.replace(punctuation, ' ')\n",
    "    return text"
   ]
  },
  {
   "cell_type": "code",
   "execution_count": 86,
   "metadata": {},
   "outputs": [],
   "source": [
    "df['Text'] = df['Text'] .apply(remove_punctuations)"
   ]
  },
  {
   "cell_type": "code",
   "execution_count": 131,
   "metadata": {},
   "outputs": [
    {
     "data": {
      "text/html": [
       "<div>\n",
       "<style scoped>\n",
       "    .dataframe tbody tr th:only-of-type {\n",
       "        vertical-align: middle;\n",
       "    }\n",
       "\n",
       "    .dataframe tbody tr th {\n",
       "        vertical-align: top;\n",
       "    }\n",
       "\n",
       "    .dataframe thead th {\n",
       "        text-align: right;\n",
       "    }\n",
       "</style>\n",
       "<table border=\"1\" class=\"dataframe\">\n",
       "  <thead>\n",
       "    <tr style=\"text-align: right;\">\n",
       "      <th></th>\n",
       "      <th>Text</th>\n",
       "      <th>House</th>\n",
       "    </tr>\n",
       "  </thead>\n",
       "  <tbody>\n",
       "    <tr>\n",
       "      <th>416</th>\n",
       "      <td>a few other babies  from other parents joined...</td>\n",
       "      <td>Slytherin</td>\n",
       "    </tr>\n",
       "    <tr>\n",
       "      <th>277</th>\n",
       "      <td>mazappy ered aya</td>\n",
       "      <td>Hufflepuff</td>\n",
       "    </tr>\n",
       "    <tr>\n",
       "      <th>6097</th>\n",
       "      <td>the show isn’t meant for him  over his head</td>\n",
       "      <td>Gryffindor</td>\n",
       "    </tr>\n",
       "    <tr>\n",
       "      <th>6157</th>\n",
       "      <td>man  america is imploding  no  we are not alri...</td>\n",
       "      <td>Ravenclaw</td>\n",
       "    </tr>\n",
       "    <tr>\n",
       "      <th>790</th>\n",
       "      <td>draco blushed as nibbled his ear lobe   mmmm ...</td>\n",
       "      <td>Slytherin</td>\n",
       "    </tr>\n",
       "    <tr>\n",
       "      <th>3926</th>\n",
       "      <td>rolling_on_the_floor_laughing  rolling_on_the...</td>\n",
       "      <td>Ravenclaw</td>\n",
       "    </tr>\n",
       "    <tr>\n",
       "      <th>7798</th>\n",
       "      <td>hugs  you deserve support</td>\n",
       "      <td>Gryffindor</td>\n",
       "    </tr>\n",
       "    <tr>\n",
       "      <th>5671</th>\n",
       "      <td>yes  i have to take the max number    for them...</td>\n",
       "      <td>Slytherin</td>\n",
       "    </tr>\n",
       "    <tr>\n",
       "      <th>5946</th>\n",
       "      <td>underdeveloped plot line with a resisting woma...</td>\n",
       "      <td>Gryffindor</td>\n",
       "    </tr>\n",
       "    <tr>\n",
       "      <th>3996</th>\n",
       "      <td>rolling_on_the_floor_laughing  rolling_on_the...</td>\n",
       "      <td>Ravenclaw</td>\n",
       "    </tr>\n",
       "  </tbody>\n",
       "</table>\n",
       "</div>"
      ],
      "text/plain": [
       "                                                   Text       House\n",
       "416    a few other babies  from other parents joined...   Slytherin\n",
       "277                                    mazappy ered aya  Hufflepuff\n",
       "6097       the show isn’t meant for him  over his head   Gryffindor\n",
       "6157  man  america is imploding  no  we are not alri...   Ravenclaw\n",
       "790    draco blushed as nibbled his ear lobe   mmmm ...   Slytherin\n",
       "3926   rolling_on_the_floor_laughing  rolling_on_the...   Ravenclaw\n",
       "7798                         hugs  you deserve support   Gryffindor\n",
       "5671  yes  i have to take the max number    for them...   Slytherin\n",
       "5946  underdeveloped plot line with a resisting woma...  Gryffindor\n",
       "3996   rolling_on_the_floor_laughing  rolling_on_the...   Ravenclaw"
      ]
     },
     "execution_count": 131,
     "metadata": {},
     "output_type": "execute_result"
    }
   ],
   "source": [
    "df.sample(10)"
   ]
  },
  {
   "cell_type": "code",
   "execution_count": 88,
   "metadata": {},
   "outputs": [],
   "source": [
    "# tt = TweetTokenizer()\n",
    "# df['Text'] = df['Text'].apply(tt.tokenize)"
   ]
  },
  {
   "cell_type": "code",
   "execution_count": 89,
   "metadata": {},
   "outputs": [],
   "source": [
    "# df['Text'] = df['Text'].apply(lambda x: [item for item in x if item not in stop_words])"
   ]
  },
  {
   "cell_type": "code",
   "execution_count": 90,
   "metadata": {},
   "outputs": [
    {
     "data": {
      "text/plain": [
       "0     tried to unf but they deactivated  skull  skull \n",
       "1                                            lana lang\n",
       "2       reminder that bi pan lesbians do not exist ...\n",
       "3                                         so true sara\n",
       "4                                            layouts  \n",
       "Name: Text, dtype: object"
      ]
     },
     "execution_count": 90,
     "metadata": {},
     "output_type": "execute_result"
    }
   ],
   "source": [
    " df['Text'].head(5)"
   ]
  },
  {
   "cell_type": "code",
   "execution_count": 91,
   "metadata": {},
   "outputs": [
    {
     "name": "stderr",
     "output_type": "stream",
     "text": [
      "[nltk_data] Downloading package punkt to /Users/gowri/nltk_data...\n",
      "[nltk_data]   Package punkt is already up-to-date!\n",
      "[nltk_data] Downloading package stopwords to /Users/gowri/nltk_data...\n",
      "[nltk_data]   Package stopwords is already up-to-date!\n",
      "[nltk_data] Downloading package wordnet to /Users/gowri/nltk_data...\n",
      "[nltk_data]   Package wordnet is already up-to-date!\n"
     ]
    }
   ],
   "source": [
    "import nltk\n",
    "nltk.download('punkt')\n",
    "nltk.download('stopwords')\n",
    "nltk.download('wordnet')\n",
    "from nltk.tokenize import word_tokenize\n",
    "from nltk.stem import LancasterStemmer,WordNetLemmatizer\n",
    "lancaster = LancasterStemmer()\n",
    "wordNet = WordNetLemmatizer()"
   ]
  },
  {
   "cell_type": "code",
   "execution_count": null,
   "metadata": {},
   "outputs": [],
   "source": []
  },
  {
   "cell_type": "code",
   "execution_count": 92,
   "metadata": {},
   "outputs": [],
   "source": [
    "from sklearn.model_selection import train_test_split, cross_val_score"
   ]
  },
  {
   "cell_type": "code",
   "execution_count": 93,
   "metadata": {},
   "outputs": [],
   "source": [
    "from sklearn.pipeline import Pipeline\n",
    "from sklearn.naive_bayes import MultinomialNB\n",
    "from sklearn.feature_extraction.text import CountVectorizer, TfidfTransformer\n",
    "from sklearn.metrics import f1_score\n",
    "\n",
    "\n",
    "pipeline = Pipeline([('vect', CountVectorizer (lowercase=True)),\n",
    "                     ('tfidf', TfidfTransformer (use_idf=True,smooth_idf=True)),\n",
    "                     ('clf', MultinomialNB (alpha=1))\n",
    "                    ])\n"
   ]
  },
  {
   "cell_type": "code",
   "execution_count": 94,
   "metadata": {},
   "outputs": [],
   "source": [
    "X_train, X_test, y_train, y_test = train_test_split(df['Text'], df.House, test_size=0.2, random_state=123)"
   ]
  },
  {
   "cell_type": "code",
   "execution_count": 95,
   "metadata": {},
   "outputs": [
    {
     "data": {
      "text/plain": [
       "Pipeline(steps=[('vect', CountVectorizer()), ('tfidf', TfidfTransformer()),\n",
       "                ('clf', MultinomialNB(alpha=1))])"
      ]
     },
     "execution_count": 95,
     "metadata": {},
     "output_type": "execute_result"
    }
   ],
   "source": [
    "pipeline.fit(X_train,y_train)"
   ]
  },
  {
   "cell_type": "code",
   "execution_count": 96,
   "metadata": {},
   "outputs": [],
   "source": [
    "pred = pipeline.predict(X_test)"
   ]
  },
  {
   "cell_type": "code",
   "execution_count": 97,
   "metadata": {},
   "outputs": [],
   "source": [
    "pred = pred.reshape(-1,1)"
   ]
  },
  {
   "cell_type": "code",
   "execution_count": 98,
   "metadata": {},
   "outputs": [
    {
     "data": {
      "text/plain": [
       "0.6938865684124532"
      ]
     },
     "execution_count": 98,
     "metadata": {},
     "output_type": "execute_result"
    }
   ],
   "source": [
    "score = f1_score(y_test, pred,average=\"weighted\")\n",
    "score"
   ]
  },
  {
   "cell_type": "code",
   "execution_count": 99,
   "metadata": {
    "scrolled": true
   },
   "outputs": [
    {
     "name": "stdout",
     "output_type": "stream",
     "text": [
      "              precision    recall  f1-score   support\n",
      "\n",
      "  Gryffindor     0.7901    0.5841    0.6716      1695\n",
      "  Hufflepuff     0.6141    0.7724    0.6842      1867\n",
      "   Ravenclaw     0.6485    0.7371    0.6900      1940\n",
      "   Slytherin     0.7954    0.6693    0.7269      1917\n",
      "\n",
      "    accuracy                         0.6935      7419\n",
      "   macro avg     0.7120    0.6907    0.6932      7419\n",
      "weighted avg     0.7102    0.6935    0.6939      7419\n",
      "\n"
     ]
    }
   ],
   "source": [
    "from sklearn.metrics import classification_report\n",
    "print(classification_report(y_test, pred, digits=4))"
   ]
  },
  {
   "cell_type": "code",
   "execution_count": 100,
   "metadata": {},
   "outputs": [],
   "source": [
    "from sklearn.feature_extraction.text import TfidfVectorizer\n",
    "\n",
    "def tfid(text_vector):\n",
    "    vectorizer = TfidfVectorizer()\n",
    "    untokenized_data =[' '.join(tweet) for tweet in tqdm(text_vector, \"Vectorizing...\")]\n",
    "    vectorizer = vectorizer.fit(untokenized_data)\n",
    "    vectors = vectorizer.transform(untokenized_data).toarray()\n",
    "    return vectors\n",
    "  \n",
    "def get_vectors(vectors, labels, keyword):\n",
    "    if len(vectors) != len(labels):\n",
    "        print(\"Unmatching sizes!\")\n",
    "        return\n",
    "    result = list()\n",
    "    for vector, label in zip(vectors, labels):\n",
    "        if label == keyword:\n",
    "            result.append(vector)\n",
    "    return result"
   ]
  },
  {
   "cell_type": "code",
   "execution_count": 101,
   "metadata": {},
   "outputs": [],
   "source": [
    "from sklearn.linear_model import SGDClassifier\n",
    "pipeline_sgd = Pipeline([\n",
    "    ('vect', CountVectorizer()),\n",
    "    ('tfidf',  TfidfTransformer(use_idf=True,smooth_idf=True)),\n",
    "    ('nb', SGDClassifier()),\n",
    "])"
   ]
  },
  {
   "cell_type": "code",
   "execution_count": 102,
   "metadata": {},
   "outputs": [
    {
     "data": {
      "text/plain": [
       "0.7167181119469894"
      ]
     },
     "execution_count": 102,
     "metadata": {},
     "output_type": "execute_result"
    }
   ],
   "source": [
    "model = pipeline_sgd.fit(X_train, y_train)\n",
    "y_predict = model.predict(X_test)\n",
    "f1_score(y_test, y_predict,average=\"weighted\")"
   ]
  },
  {
   "cell_type": "code",
   "execution_count": 103,
   "metadata": {},
   "outputs": [],
   "source": [
    "# pipeline_sgd = Pipeline([\n",
    "#     ('vect', CountVectorizer()),\n",
    "#     ('tfidf',  TfidfTransformer(use_idf=True,smooth_idf=True)),\n",
    "#     ('dt', DecisionTreeClassifier(max_depth=800, min_samples_split=5)),\n",
    "# ])"
   ]
  },
  {
   "cell_type": "code",
   "execution_count": 104,
   "metadata": {},
   "outputs": [],
   "source": [
    "# model = pipeline_sgd.fit(X_train, y_train)\n",
    "# y_predict = model.predict(X_test)\n",
    "# f1_score(y_test, y_predict,average=\"weighted\")"
   ]
  },
  {
   "cell_type": "code",
   "execution_count": 105,
   "metadata": {},
   "outputs": [],
   "source": [
    "#Creating a list of Pipeline with well-known ML models\n",
    "from sklearn.pipeline import make_pipeline\n",
    "from sklearn.naive_bayes import MultinomialNB,ComplementNB\n",
    "from sklearn.linear_model import LogisticRegression, RidgeClassifier\n",
    "from sklearn.svm import SVC\n",
    "from sklearn.ensemble import RandomForestClassifier\n",
    "from sklearn.feature_extraction.text import CountVectorizer, TfidfVectorizer\n",
    "from sklearn.tree import DecisionTreeClassifier\n",
    "\n",
    "pipelines=[]\n",
    "for model in [DecisionTreeClassifier(), MultinomialNB(), \n",
    "              LogisticRegression(solver='saga'), RidgeClassifier(solver='auto'), SVC(),RandomForestClassifier()]:\n",
    "    pipeline=make_pipeline(TfidfVectorizer(), model)\n",
    "    pipelines.append(pipeline)"
   ]
  },
  {
   "cell_type": "code",
   "execution_count": 106,
   "metadata": {},
   "outputs": [],
   "source": [
    "import time\n",
    "training_time=[]\n",
    "for pipeline in pipelines:\n",
    "    start=time.time()\n",
    "    pipeline.fit(X_train, y_train)\n",
    "    stop=time.time()\n",
    "    training_time.append(stop-start)"
   ]
  },
  {
   "cell_type": "code",
   "execution_count": 107,
   "metadata": {},
   "outputs": [
    {
     "name": "stdout",
     "output_type": "stream",
     "text": [
      "Classifiation Report\n",
      "\n",
      "*****************************************************\n",
      "DECISIONTREECLASSIFIER\n",
      "\n",
      "               precision    recall  f1-score   support\n",
      "\n",
      "  Gryffindor       0.57      0.53      0.55      1695\n",
      "  Hufflepuff       0.54      0.51      0.52      1867\n",
      "   Ravenclaw       0.64      0.65      0.64      1940\n",
      "   Slytherin       0.59      0.66      0.62      1917\n",
      "\n",
      "    accuracy                           0.59      7419\n",
      "   macro avg       0.58      0.58      0.58      7419\n",
      "weighted avg       0.59      0.59      0.59      7419\n",
      "\n",
      "*****************************************************\n",
      "MULTINOMIALNB\n",
      "\n",
      "               precision    recall  f1-score   support\n",
      "\n",
      "  Gryffindor       0.79      0.58      0.67      1695\n",
      "  Hufflepuff       0.61      0.77      0.68      1867\n",
      "   Ravenclaw       0.65      0.74      0.69      1940\n",
      "   Slytherin       0.80      0.67      0.73      1917\n",
      "\n",
      "    accuracy                           0.69      7419\n",
      "   macro avg       0.71      0.69      0.69      7419\n",
      "weighted avg       0.71      0.69      0.69      7419\n",
      "\n",
      "*****************************************************\n",
      "LOGISTICREGRESSION\n",
      "\n",
      "               precision    recall  f1-score   support\n",
      "\n",
      "  Gryffindor       0.72      0.67      0.70      1695\n",
      "  Hufflepuff       0.69      0.71      0.70      1867\n",
      "   Ravenclaw       0.75      0.72      0.74      1940\n",
      "   Slytherin       0.71      0.77      0.74      1917\n",
      "\n",
      "    accuracy                           0.72      7419\n",
      "   macro avg       0.72      0.72      0.72      7419\n",
      "weighted avg       0.72      0.72      0.72      7419\n",
      "\n",
      "*****************************************************\n",
      "RIDGECLASSIFIER\n",
      "\n",
      "               precision    recall  f1-score   support\n",
      "\n",
      "  Gryffindor       0.74      0.66      0.70      1695\n",
      "  Hufflepuff       0.70      0.71      0.70      1867\n",
      "   Ravenclaw       0.74      0.74      0.74      1940\n",
      "   Slytherin       0.72      0.77      0.74      1917\n",
      "\n",
      "    accuracy                           0.72      7419\n",
      "   macro avg       0.72      0.72      0.72      7419\n",
      "weighted avg       0.72      0.72      0.72      7419\n",
      "\n",
      "*****************************************************\n",
      "SVC\n",
      "\n",
      "               precision    recall  f1-score   support\n",
      "\n",
      "  Gryffindor       0.70      0.71      0.71      1695\n",
      "  Hufflepuff       0.70      0.73      0.71      1867\n",
      "   Ravenclaw       0.78      0.74      0.76      1940\n",
      "   Slytherin       0.74      0.75      0.75      1917\n",
      "\n",
      "    accuracy                           0.73      7419\n",
      "   macro avg       0.73      0.73      0.73      7419\n",
      "weighted avg       0.73      0.73      0.73      7419\n",
      "\n",
      "*****************************************************\n",
      "RANDOMFORESTCLASSIFIER\n",
      "\n",
      "               precision    recall  f1-score   support\n",
      "\n",
      "  Gryffindor       0.64      0.62      0.63      1695\n",
      "  Hufflepuff       0.63      0.64      0.64      1867\n",
      "   Ravenclaw       0.71      0.71      0.71      1940\n",
      "   Slytherin       0.70      0.71      0.71      1917\n",
      "\n",
      "    accuracy                           0.67      7419\n",
      "   macro avg       0.67      0.67      0.67      7419\n",
      "weighted avg       0.67      0.67      0.67      7419\n",
      "\n",
      "*****************************************************\n"
     ]
    }
   ],
   "source": [
    "from sklearn.metrics import classification_report, confusion_matrix, f1_score, precision_score, recall_score\n",
    "model_name=[]\n",
    "precision_array=[]\n",
    "recall_array=[]\n",
    "f1_array=[]\n",
    "test_time=[]\n",
    "print(\"Classifiation Report\\n\")\n",
    "print(\"*****************************************************\")\n",
    "for i, pipeline in enumerate(pipelines):\n",
    "    start=time.time()\n",
    "    y_pred=pipeline.predict(X_test)\n",
    "    stop=time.time()\n",
    "    test_time.append(stop-start)\n",
    "    print(pipelines[i].steps[1][0].upper())\n",
    "    model_name.append(pipelines[i].steps[1][0].upper())\n",
    "    f1_array.append(round(f1_score(y_test, y_pred, average='weighted'),2))\n",
    "    precision_array.append(round(precision_score(y_test, y_pred, average='weighted'),2))\n",
    "    recall_array.append(round(recall_score(y_test, y_pred, average='weighted'),2))\n",
    "    print(\"\\n\",classification_report(y_test, y_pred))\n",
    "    print(\"*****************************************************\")"
   ]
  },
  {
   "cell_type": "code",
   "execution_count": 122,
   "metadata": {},
   "outputs": [
    {
     "data": {
      "image/png": "[encoded data removed]",
      "text/plain": [
       "<Figure size 720x720 with 1 Axes>"
      ]
     },
     "metadata": {},
     "output_type": "display_data"
    }
   ],
   "source": [
    "#Plotting the various performance metrix of all models\n",
    "training_time=np.array(training_time)/np.max(training_time)\n",
    "test_time=np.array(test_time)/np.max(test_time)\n",
    "score_df=pd.DataFrame({'F1 Score(Weighted)':f1_array,\n",
    "                     'Precision Score of Class 1':precision_array,\n",
    "                     'Recall of Class 1':recall_array,\n",
    "                      'Training Time': training_time,\n",
    "                      'Test Time':test_time}, index=model_name)\n",
    "\n",
    "f=plt.figure(figsize=(10,10))\n",
    "plt.title('Comparing Performance of various ML Models on Harry Potter Dataset', color='black',\n",
    "         fontdict={'fontsize':23})\n",
    "score_df.plot(kind='barh', ax=f.gca())\n",
    "plt.legend(loc='center left', bbox_to_anchor=(1.0, 0.5))\n",
    "plt.show()\n"
   ]
  },
  {
   "cell_type": "code",
   "execution_count": null,
   "metadata": {},
   "outputs": [],
   "source": []
  },
  {
   "cell_type": "code",
   "execution_count": 129,
   "metadata": {},
   "outputs": [
    {
     "name": "stdout",
     "output_type": "stream",
     "text": [
      "accuracy 0.7316349912387115\n",
      "              precision    recall  f1-score   support\n",
      "\n",
      "  Gryffindor       0.70      0.71      0.71      1695\n",
      "  Hufflepuff       0.70      0.73      0.71      1867\n",
      "   Ravenclaw       0.78      0.74      0.76      1940\n",
      "   Slytherin       0.74      0.75      0.75      1917\n",
      "\n",
      "    accuracy                           0.73      7419\n",
      "   macro avg       0.73      0.73      0.73      7419\n",
      "weighted avg       0.73      0.73      0.73      7419\n",
      "\n",
      "[[1203  197  128  167]\n",
      " [ 169 1355  152  191]\n",
      " [ 158  218 1426  138]\n",
      " [ 186  172  115 1444]]\n"
     ]
    }
   ],
   "source": [
    "# from sklearn.linear_model import LogisticRegression\n",
    "from sklearn.metrics import accuracy_score\n",
    "\n",
    "logreg = Pipeline([('vect', CountVectorizer()),\n",
    "                ('tfidf', TfidfTransformer()),\n",
    "                ('clf', SVC()),\n",
    "               ])\n",
    "logreg.fit(X_train, y_train)\n",
    "\n",
    "# %%time\n",
    "\n",
    "y_pred = logreg.predict(X_test)\n",
    "\n",
    "print('accuracy %s' % accuracy_score(y_pred, y_test))\n",
    "print(classification_report(y_test, y_pred))\n",
    "cf_matrix = confusion_matrix(y_test, y_pred)\n",
    "print(cf_matrix)"
   ]
  },
  {
   "cell_type": "code",
   "execution_count": 130,
   "metadata": {},
   "outputs": [
    {
     "data": {
      "text/plain": [
       "<AxesSubplot:>"
      ]
     },
     "execution_count": 130,
     "metadata": {},
     "output_type": "execute_result"
    },
    {
     "data": {
      "image/png": "[encoded data removed]",
      "text/plain": [
       "<Figure size 432x288 with 2 Axes>"
      ]
     },
     "metadata": {},
     "output_type": "display_data"
    }
   ],
   "source": [
    "import seaborn as sns\n",
    "sns.heatmap(cf_matrix, annot=True,fmt='g')"
   ]
  },
  {
   "cell_type": "code",
   "execution_count": null,
   "metadata": {},
   "outputs": [],
   "source": [
    "df_small = df.groupby('House',as_index=False).apply(lambda s: s.sample(3500))\n",
    "df_small.sample(10)"
   ]
  },
  {
   "cell_type": "code",
   "execution_count": null,
   "metadata": {},
   "outputs": [],
   "source": [
    "df_small.groupby(['House', 'label']).count()"
   ]
  },
  {
   "cell_type": "code",
   "execution_count": null,
   "metadata": {},
   "outputs": [],
   "source": [
    "import torch\n",
    "from tqdm.notebook import tqdm\n",
    "\n",
    "from transformers import BertTokenizer\n",
    "from torch.utils.data import TensorDataset\n",
    "\n",
    "from transformers import BertForSequenceClassification"
   ]
  },
  {
   "cell_type": "code",
   "execution_count": null,
   "metadata": {},
   "outputs": [],
   "source": [
    "possible_labels = df.House.unique()\n",
    "\n",
    "label_dict = {}\n",
    "for index, possible_label in enumerate(possible_labels):\n",
    "    label_dict[possible_label] = index\n",
    "label_dict"
   ]
  },
  {
   "cell_type": "code",
   "execution_count": null,
   "metadata": {},
   "outputs": [],
   "source": [
    "df_small['label'] = df_small.House.replace(label_dict)"
   ]
  },
  {
   "cell_type": "code",
   "execution_count": null,
   "metadata": {},
   "outputs": [],
   "source": [
    "df_small.sample(10)"
   ]
  },
  {
   "cell_type": "code",
   "execution_count": null,
   "metadata": {},
   "outputs": [],
   "source": [
    "X_train, X_test, y_train, y_test = train_test_split(df_small['Text'], df_small.label, test_size=0.2, random_state=123)"
   ]
  },
  {
   "cell_type": "code",
   "execution_count": null,
   "metadata": {},
   "outputs": [],
   "source": [
    "tokenizer = BertTokenizer.from_pretrained('bert-base-uncased', \n",
    "                                          do_lower_case=True)"
   ]
  },
  {
   "cell_type": "code",
   "execution_count": null,
   "metadata": {},
   "outputs": [],
   "source": [
    "encoded_data_train = tokenizer.batch_encode_plus(\n",
    "    X_train, \n",
    "    add_special_tokens=True, \n",
    "    return_attention_mask=True, \n",
    "    pad_to_max_length=True, \n",
    "    return_tensors='pt',\n",
    "    truncation=True,\n",
    "    max_length=512\n",
    ")\n",
    "\n",
    "encoded_data_val = tokenizer.batch_encode_plus(\n",
    "    X_test, \n",
    "    add_special_tokens=True, \n",
    "    return_attention_mask=True, \n",
    "    pad_to_max_length=True, \n",
    "    return_tensors='pt',\n",
    "    truncation=True,\n",
    "    max_length=512\n",
    ")"
   ]
  },
  {
   "cell_type": "code",
   "execution_count": null,
   "metadata": {},
   "outputs": [],
   "source": [
    "input_ids_train = encoded_data_train['input_ids']\n",
    "attention_masks_train = encoded_data_train['attention_mask']\n",
    "labels_train = torch.tensor(y_train.values)\n",
    "\n",
    "input_ids_val = encoded_data_val['input_ids']\n",
    "attention_masks_val = encoded_data_val['attention_mask']\n",
    "labels_val = torch.tensor(y_test.values)"
   ]
  },
  {
   "cell_type": "code",
   "execution_count": null,
   "metadata": {},
   "outputs": [],
   "source": [
    "dataset_train = TensorDataset(input_ids_train, attention_masks_train, labels_train)\n",
    "dataset_val = TensorDataset(input_ids_val, attention_masks_val, labels_val)"
   ]
  },
  {
   "cell_type": "code",
   "execution_count": null,
   "metadata": {},
   "outputs": [],
   "source": [
    "from torch.utils.data import DataLoader, RandomSampler, SequentialSampler\n",
    "\n",
    "batch_size = 3\n",
    "\n",
    "dataloader_train = DataLoader(dataset_train, \n",
    "                              sampler=RandomSampler(dataset_train), \n",
    "                              batch_size=batch_size)\n",
    "\n",
    "dataloader_validation = DataLoader(dataset_val, \n",
    "                                   sampler=SequentialSampler(dataset_val), \n",
    "                                   batch_size=batch_size)"
   ]
  },
  {
   "cell_type": "code",
   "execution_count": null,
   "metadata": {},
   "outputs": [],
   "source": [
    "model = BertForSequenceClassification.from_pretrained(\"bert-base-uncased\",\n",
    "                                                      num_labels=len(label_dict),\n",
    "                                                      output_attentions=False,\n",
    "                                                      output_hidden_states=False)"
   ]
  },
  {
   "cell_type": "code",
   "execution_count": null,
   "metadata": {},
   "outputs": [],
   "source": [
    "from transformers import AdamW, get_linear_schedule_with_warmup\n",
    "\n",
    "optimizer = AdamW(model.parameters(),\n",
    "                  lr=1e-5, \n",
    "                  eps=1e-8)\n",
    "                  \n",
    "epochs = 2\n",
    "\n",
    "scheduler = get_linear_schedule_with_warmup(optimizer, \n",
    "                                            num_warmup_steps=0,\n",
    "                                            num_training_steps=len(dataloader_train)*epochs)"
   ]
  },
  {
   "cell_type": "code",
   "execution_count": null,
   "metadata": {},
   "outputs": [],
   "source": [
    "from sklearn.metrics import f1_score\n",
    "\n",
    "def f1_score_func(preds, labels):\n",
    "    preds_flat = np.argmax(preds, axis=1).flatten()\n",
    "    labels_flat = labels.flatten()\n",
    "    return f1_score(labels_flat, preds_flat, average='weighted')\n",
    "\n",
    "def accuracy_per_class(preds, labels):\n",
    "    label_dict_inverse = {v: k for k, v in label_dict.items()}\n",
    "    \n",
    "    preds_flat = np.argmax(preds, axis=1).flatten()\n",
    "    labels_flat = labels.flatten()\n",
    "\n",
    "    for label in np.unique(labels_flat):\n",
    "        y_preds = preds_flat[labels_flat==label]\n",
    "        y_true = labels_flat[labels_flat==label]\n",
    "        print(f'Class: {label_dict_inverse[label]}')\n",
    "        print(f'Accuracy: {len(y_preds[y_preds==label])}/{len(y_true)}\\n')"
   ]
  },
  {
   "cell_type": "code",
   "execution_count": null,
   "metadata": {},
   "outputs": [],
   "source": [
    "import random\n",
    "\n",
    "seed_val = 17\n",
    "random.seed(seed_val)\n",
    "np.random.seed(seed_val)\n",
    "torch.manual_seed(seed_val)\n",
    "torch.cuda.manual_seed_all(seed_val)\n",
    "\n",
    "def evaluate(dataloader_val):\n",
    "\n",
    "    model.eval()\n",
    "    \n",
    "    loss_val_total = 0\n",
    "    predictions, true_vals = [], []\n",
    "    \n",
    "    for batch in dataloader_val:\n",
    "        \n",
    "        batch = tuple(b for b in batch)\n",
    "        \n",
    "        inputs = {'input_ids':      batch[0],\n",
    "                  'attention_mask': batch[1],\n",
    "                  'labels':         batch[2],\n",
    "                 }\n",
    "\n",
    "        with torch.no_grad():        \n",
    "            outputs = model(**inputs)\n",
    "            \n",
    "        loss = outputs[0]\n",
    "        logits = outputs[1]\n",
    "        loss_val_total += loss.item()\n",
    "\n",
    "        logits = logits.detach().cpu().numpy()\n",
    "        label_ids = inputs['labels'].cpu().numpy()\n",
    "        predictions.append(logits)\n",
    "        true_vals.append(label_ids)\n",
    "    \n",
    "    loss_val_avg = loss_val_total/len(dataloader_val) \n",
    "    \n",
    "    predictions = np.concatenate(predictions, axis=0)\n",
    "    true_vals = np.concatenate(true_vals, axis=0)\n",
    "            \n",
    "    return loss_val_avg, predictions, true_vals\n",
    "    \n",
    "for epoch in tqdm(range(1, epochs+1)):\n",
    "    \n",
    "    model.train()\n",
    "    \n",
    "    loss_train_total = 0\n",
    "\n",
    "    progress_bar = tqdm(dataloader_train, desc='Epoch {:1d}'.format(epoch), leave=False, disable=False)\n",
    "    for batch in progress_bar:\n",
    "\n",
    "        model.zero_grad()\n",
    "        \n",
    "        batch = tuple(b for b in batch)\n",
    "        \n",
    "        inputs = {'input_ids':      batch[0],\n",
    "                  'attention_mask': batch[1],\n",
    "                  'labels':         batch[2],\n",
    "                 }       \n",
    "\n",
    "        outputs = model(**inputs)\n",
    "        \n",
    "        loss = outputs[0]\n",
    "        loss_train_total += loss.item()\n",
    "        loss.backward()\n",
    "\n",
    "        torch.nn.utils.clip_grad_norm_(model.parameters(), 1.0)\n",
    "\n",
    "        optimizer.step()\n",
    "        scheduler.step()\n",
    "        \n",
    "        progress_bar.set_postfix({'training_loss': '{:.3f}'.format(loss.item()/len(batch))})\n",
    "         \n",
    "        \n",
    "    torch.save(model.state_dict(), f'BERT_epoch_{epoch}.model')\n",
    "        \n",
    "    tqdm.write(f'\\nEpoch {epoch}')\n",
    "    \n",
    "    loss_train_avg = loss_train_total/len(dataloader_train)            \n",
    "    mtqdm.write(f'Training loss: {loss_train_avg}')\n",
    "    \n",
    "    val_loss, predictions, true_vals = evaluate(dataloader_validation)\n",
    "    val_f1 = f1_score_func(predictions, true_vals)\n",
    "    tqdm.write(f'Validation loss: {val_loss}')\n",
    "    tqdm.write(f'F1 Score (Weighted): {val_f1}')"
   ]
  },
  {
   "cell_type": "code",
   "execution_count": null,
   "metadata": {},
   "outputs": [],
   "source": [
    "model = BertForSequenceClassification.from_pretrained(\"bert-base-uncased\",\n",
    "                                                      num_labels=len(label_dict),\n",
    "                                                      output_attentions=False,\n",
    "                                                      output_hidden_states=False)\n",
    "\n",
    "\n",
    "model.load_state_dict(torch.load('BERT_epoch_2.model',))\n",
    "\n",
    "_, predictions, true_vals = evaluate(dataloader_validation)\n",
    "accuracy_per_class(predictions, true_vals)"
   ]
  },
  {
   "cell_type": "code",
   "execution_count": null,
   "metadata": {},
   "outputs": [],
   "source": [
    "torch.save(model.state_dict(), f'BERT_epoch_2.model')\n",
    "        \n",
    "tqdm.write(f'\\nEpoch {epoch}')\n",
    "loss_train_avg = loss_train_total/len(dataloader_train)            \n",
    "mtqdm.write(f'Training loss: {loss_train_avg}')\n",
    "    \n",
    "val_loss, predictions, true_vals = evaluate(dataloader_validation)\n",
    "val_f1 = f1_score_func(predictions, true_vals)\n",
    "tqdm.write(f'Validation loss: {val_loss}')\n",
    "tqdm.write(f'F1 Score (Weighted): {val_f1}')"
   ]
  },
  {
   "cell_type": "code",
   "execution_count": null,
   "metadata": {},
   "outputs": [],
   "source": []
  },
  {
   "cell_type": "code",
   "execution_count": null,
   "metadata": {},
   "outputs": [],
   "source": []
  },
  {
   "cell_type": "code",
   "execution_count": null,
   "metadata": {},
   "outputs": [],
   "source": []
  },
  {
   "cell_type": "code",
   "execution_count": null,
   "metadata": {},
   "outputs": [],
   "source": []
  }
 ],
 "metadata": {
  "kernelspec": {
   "display_name": "Python 3",
   "language": "python",
   "name": "python3"
  },
  "language_info": {
   "codemirror_mode": {
    "name": "ipython",
    "version": 3
   },
   "file_extension": ".py",
   "mimetype": "text/x-python",
   "name": "python",
   "nbconvert_exporter": "python",
   "pygments_lexer": "ipython3",
   "version": "3.8.8"
  }
 },
 "nbformat": 4,
 "nbformat_minor": 4
}
